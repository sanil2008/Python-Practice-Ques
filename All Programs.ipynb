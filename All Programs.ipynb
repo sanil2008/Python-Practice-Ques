{
 "cells": [
  {
   "cell_type": "markdown",
   "id": "81248365",
   "metadata": {},
   "source": [
    "# All My Programs"
   ]
  },
  {
   "cell_type": "markdown",
   "id": "fa6a5210",
   "metadata": {},
   "source": [
    "### Take two input and Power of it."
   ]
  },
  {
   "cell_type": "code",
   "execution_count": 1,
   "id": "2cac2e0f",
   "metadata": {},
   "outputs": [
    {
     "name": "stdout",
     "output_type": "stream",
     "text": [
      "4\n",
      "8\n",
      "4 * 8 = 65536 "
     ]
    }
   ],
   "source": [
    "\n",
    "number = int(input())\n",
    "num = int(input())\n",
    "for i in range(1):\n",
    "    print(number,'*',num,'=',number**num,end=' ')"
   ]
  },
  {
   "cell_type": "markdown",
   "id": "b12ae2fd",
   "metadata": {},
   "source": [
    "### Take Input and Make pyramid of numbers."
   ]
  },
  {
   "cell_type": "code",
   "execution_count": 10,
   "id": "c58e0a8b",
   "metadata": {},
   "outputs": [
    {
     "name": "stdout",
     "output_type": "stream",
     "text": [
      "10\n",
      "1 \n",
      "1 2 \n",
      "1 2 3 \n",
      "1 2 3 4 \n",
      "1 2 3 4 5 \n",
      "1 2 3 4 5 6 \n",
      "1 2 3 4 5 6 7 \n",
      "1 2 3 4 5 6 7 8 \n",
      "1 2 3 4 5 6 7 8 9 \n",
      "1 2 3 4 5 6 7 8 9 10 \n"
     ]
    }
   ],
   "source": [
    "first =int(input())\n",
    "first = first+1\n",
    "for i in range(1,first):\n",
    "    for j in range(1 , i+1):\n",
    "        print(j , end=' ')\n",
    "    print('')   "
   ]
  },
  {
   "cell_type": "markdown",
   "id": "b2afa29a",
   "metadata": {},
   "source": [
    "### Take Input and Make pyramid of stars."
   ]
  },
  {
   "cell_type": "code",
   "execution_count": 13,
   "id": "9b2dff82",
   "metadata": {},
   "outputs": [
    {
     "name": "stdout",
     "output_type": "stream",
     "text": [
      "10\n",
      "\n",
      "* \n",
      "* * \n",
      "* * * \n",
      "* * * * \n",
      "* * * * * \n",
      "* * * * * * \n",
      "* * * * * * * \n",
      "* * * * * * * * \n",
      "* * * * * * * * * \n",
      "* * * * * * * * * * \n"
     ]
    }
   ],
   "source": [
    "i = int(input())\n",
    "i = i+1\n",
    "for j in range(i):\n",
    "    for k in range(j):\n",
    "        print('*', end=' ') \n",
    "    print('')    "
   ]
  },
  {
   "cell_type": "markdown",
   "id": "1aca550d",
   "metadata": {},
   "source": [
    "### Print Table of number given by user."
   ]
  },
  {
   "cell_type": "code",
   "execution_count": 21,
   "id": "7c3b91d6",
   "metadata": {},
   "outputs": [
    {
     "name": "stdout",
     "output_type": "stream",
     "text": [
      "6\n",
      "6 x 1 = 6\n",
      "6 x 2 = 12\n",
      "6 x 3 = 18\n",
      "6 x 4 = 24\n",
      "6 x 5 = 30\n",
      "6 x 6 = 36\n",
      "6 x 7 = 42\n",
      "6 x 8 = 48\n",
      "6 x 9 = 54\n",
      "6 x 10 = 60\n"
     ]
    }
   ],
   "source": [
    "number = int(input())\n",
    "for i in range(1,11):\n",
    "    print(number,'x',i,'=',i*number)"
   ]
  },
  {
   "cell_type": "markdown",
   "id": "3d8ce585",
   "metadata": {},
   "source": [
    "### Make ''ULTA'' Pyramid of stars."
   ]
  },
  {
   "cell_type": "code",
   "execution_count": 19,
   "id": "6023ecf6",
   "metadata": {},
   "outputs": [
    {
     "name": "stdout",
     "output_type": "stream",
     "text": [
      "5\n",
      "* * * * * \n",
      "* * * * \n",
      "* * * \n",
      "* * \n",
      "* \n"
     ]
    }
   ],
   "source": [
    "number = int(input())\n",
    "for i in range(number,0,-1):\n",
    "    for j in range(i):\n",
    "        print('*',end=' ')\n",
    "    print('')    "
   ]
  },
  {
   "cell_type": "markdown",
   "id": "22fff9c3",
   "metadata": {},
   "source": [
    "### Print Numbers in negative that are given by user."
   ]
  },
  {
   "cell_type": "code",
   "execution_count": 16,
   "id": "21711d7e",
   "metadata": {},
   "outputs": [
    {
     "name": "stdout",
     "output_type": "stream",
     "text": [
      "5\n",
      "-5\n",
      "-4\n",
      "-3\n",
      "-2\n",
      "-1\n"
     ]
    }
   ],
   "source": [
    "num=int(input())\n",
    "for i in range(-num,0):\n",
    "    print(i)"
   ]
  },
  {
   "cell_type": "markdown",
   "id": "e3ab2611",
   "metadata": {},
   "source": [
    "### Make Mirror image of vertical form of pyramid."
   ]
  },
  {
   "cell_type": "code",
   "execution_count": 33,
   "id": "b4d7bf35",
   "metadata": {},
   "outputs": [
    {
     "name": "stdout",
     "output_type": "stream",
     "text": [
      "* \n",
      "* * \n",
      "* * * \n",
      "* * * * \n",
      "* * * * * \n",
      "* * * * * * \n",
      "* * * * * * * \n",
      "* * * * * * * * \n",
      "* * * * * * * * * \n",
      "* * * * * * * * * * \n",
      "--------------------\n",
      "* * * * * * * * * * \n",
      "* * * * * * * * * \n",
      "* * * * * * * * \n",
      "* * * * * * * \n",
      "* * * * * * \n",
      "* * * * * \n",
      "* * * * \n",
      "* * * \n",
      "* * \n",
      "* \n"
     ]
    }
   ],
   "source": [
    "for j in range(1,11):\n",
    "    for k in range(j):\n",
    "        print('*', end=' ') \n",
    "    print('')\n",
    "    \n",
    "print('--------------------')\n",
    "\n",
    "for i in range(10,0,-1):\n",
    "    for f in range(i):\n",
    "        print('*',end=' ')\n",
    "    print('')  \n"
   ]
  },
  {
   "cell_type": "markdown",
   "id": "67450c77",
   "metadata": {},
   "source": [
    "### Print stars pyramid in vertical direction."
   ]
  },
  {
   "cell_type": "code",
   "execution_count": 6,
   "id": "7a040ba7",
   "metadata": {},
   "outputs": [
    {
     "name": "stdout",
     "output_type": "stream",
     "text": [
      "6\n",
      "\n",
      "* \n",
      "* * \n",
      "* * * \n",
      "* * * * \n",
      "* * * * * \n",
      "* * * * * * \n",
      "* * * * * \n",
      "* * * * \n",
      "* * * \n",
      "* * \n",
      "* \n"
     ]
    }
   ],
   "source": [
    "number = int(input())\n",
    "for j in range(0,number):\n",
    "    for k in range(j):\n",
    "        print('*', end=' ') \n",
    "    print('')   \n",
    "for i in range(number,0,-1):\n",
    "    for f in range(i):\n",
    "        print('*',end=' ')\n",
    "    print('')  "
   ]
  },
  {
   "cell_type": "markdown",
   "id": "b4ab80a5",
   "metadata": {},
   "source": [
    "### Print all the combination of a,b,c."
   ]
  },
  {
   "cell_type": "code",
   "execution_count": 19,
   "id": "6c3629cf",
   "metadata": {},
   "outputs": [
    {
     "name": "stdout",
     "output_type": "stream",
     "text": [
      "1 )   aaa\n",
      "2 )   aab\n",
      "3 )   aac\n",
      "4 )   aba\n",
      "5 )   abb\n",
      "6 )   abc\n",
      "7 )   aca\n",
      "8 )   acb\n",
      "9 )   acc\n",
      "10 )   baa\n",
      "11 )   bab\n",
      "12 )   bac\n",
      "13 )   bba\n",
      "14 )   bbb\n",
      "15 )   bbc\n",
      "16 )   bca\n",
      "17 )   bcb\n",
      "18 )   bcc\n",
      "19 )   caa\n",
      "20 )   cab\n",
      "21 )   cac\n",
      "22 )   cba\n",
      "23 )   cbb\n",
      "24 )   cbc\n",
      "25 )   cca\n",
      "26 )   ccb\n",
      "27 )   ccc\n"
     ]
    }
   ],
   "source": [
    "letters = ['a','b','c']\n",
    "count = 0\n",
    "for a in letters:\n",
    "    for b in letters:\n",
    "        for c in letters:\n",
    "            count+=1\n",
    "            string = ''\n",
    "            string = string + a+b+c\n",
    "            print(count,')',' ',string)"
   ]
  },
  {
   "cell_type": "markdown",
   "id": "d769d65f",
   "metadata": {},
   "source": [
    "### Find Odd and Even number from two input given by user. "
   ]
  },
  {
   "cell_type": "code",
   "execution_count": 10,
   "id": "c34cacd1",
   "metadata": {},
   "outputs": [
    {
     "name": "stdout",
     "output_type": "stream",
     "text": [
      "5\n",
      "90\n",
      "Total Even Numbers : 43\n",
      "Total Odd Numbers : 43\n"
     ]
    }
   ],
   "source": [
    "num = int(input())\n",
    "num2 = int(input())\n",
    "num2+=1\n",
    "even = 0\n",
    "odd = 0\n",
    "for i in range(num,num2):\n",
    "    if i % 2==0:\n",
    "        even+=1\n",
    "    else:\n",
    "        odd+=1\n",
    "print('Total Even Numbers :',even)\n",
    "print('Total Odd Numbers :',odd)"
   ]
  },
  {
   "cell_type": "markdown",
   "id": "6a9d91d8",
   "metadata": {},
   "source": [
    "### Make ''ULTA'' Pyramid of numbers."
   ]
  },
  {
   "cell_type": "code",
   "execution_count": 10,
   "id": "96a67b42",
   "metadata": {},
   "outputs": [
    {
     "name": "stdout",
     "output_type": "stream",
     "text": [
      "8\n",
      "1 2 3 4 \n",
      "1 2 3 \n",
      "1 2 \n",
      "1 \n",
      "\n"
     ]
    }
   ],
   "source": [
    "i = int(input())\n",
    "i = i-1\n",
    "for j in range(5,0,-1):\n",
    "    for k in range(1,j):\n",
    "            print(k, end=' ') \n",
    "    print('')    \n",
    "        "
   ]
  },
  {
   "cell_type": "markdown",
   "id": "1f0f1f32",
   "metadata": {},
   "source": [
    "### Take input from user and get square of it as output."
   ]
  },
  {
   "cell_type": "code",
   "execution_count": 15,
   "id": "85be34db",
   "metadata": {},
   "outputs": [
    {
     "name": "stdout",
     "output_type": "stream",
     "text": [
      "5\n",
      "Square is = 25\n"
     ]
    }
   ],
   "source": [
    "num =int(input())\n",
    "num=num*num\n",
    "print('Square is =',num)"
   ]
  },
  {
   "cell_type": "markdown",
   "id": "5fc896bf",
   "metadata": {},
   "source": [
    "### Make table of input no. and print ''The Code Has run Properly'' when code run correctly."
   ]
  },
  {
   "cell_type": "code",
   "execution_count": 4,
   "id": "0099eb18",
   "metadata": {},
   "outputs": [
    {
     "name": "stdout",
     "output_type": "stream",
     "text": [
      "5\n",
      "5 x 1 = 5\n",
      "5 x 2 = 10\n",
      "5 x 3 = 15\n",
      "5 x 4 = 20\n",
      "5 x 5 = 25\n",
      "5 x 6 = 30\n",
      "5 x 7 = 35\n",
      "5 x 8 = 40\n",
      "5 x 9 = 45\n",
      "5 x 10 = 50\n",
      "The Code Has run Properly\n"
     ]
    }
   ],
   "source": [
    "number = int(input())\n",
    "for i in range(1,11):\n",
    "    print(number,'x',i,'=',i*number)\n",
    "else:\n",
    "    print('The Code Has run Properly')"
   ]
  },
  {
   "cell_type": "code",
   "execution_count": 23,
   "id": "1781a53c",
   "metadata": {},
   "outputs": [
    {
     "name": "stdout",
     "output_type": "stream",
     "text": [
      "20\n",
      "The Cube Of 1 = 1\n",
      "The Cube Of 2 = 8\n",
      "The Cube Of 3 = 27\n",
      "The Cube Of 4 = 64\n",
      "The Cube Of 5 = 125\n",
      "The Cube Of 6 = 216\n",
      "The Cube Of 7 = 343\n",
      "The Cube Of 8 = 512\n",
      "The Cube Of 9 = 729\n",
      "The Cube Of 10 = 1000\n",
      "The Cube Of 11 = 1331\n",
      "The Cube Of 12 = 1728\n",
      "The Cube Of 13 = 2197\n",
      "The Cube Of 14 = 2744\n",
      "The Cube Of 15 = 3375\n",
      "The Cube Of 16 = 4096\n",
      "The Cube Of 17 = 4913\n",
      "The Cube Of 18 = 5832\n",
      "The Cube Of 19 = 6859\n"
     ]
    }
   ],
   "source": [
    "num=int(input())\n",
    "for i in range(1,num,+1):\n",
    "    print('The Cube Of',i,'=',i*i*i)"
   ]
  },
  {
   "cell_type": "code",
   "execution_count": null,
   "id": "82068a92",
   "metadata": {},
   "outputs": [],
   "source": []
  }
 ],
 "metadata": {
  "kernelspec": {
   "display_name": "Python 3 (ipykernel)",
   "language": "python",
   "name": "python3"
  },
  "language_info": {
   "codemirror_mode": {
    "name": "ipython",
    "version": 3
   },
   "file_extension": ".py",
   "mimetype": "text/x-python",
   "name": "python",
   "nbconvert_exporter": "python",
   "pygments_lexer": "ipython3",
   "version": "3.9.6"
  }
 },
 "nbformat": 4,
 "nbformat_minor": 5
}
