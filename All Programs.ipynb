{
 "cells": [
  {
   "cell_type": "markdown",
   "id": "752f1898",
   "metadata": {},
   "source": [
    "# All My Programs"
   ]
  },
  {
   "cell_type": "markdown",
   "id": "aecb8f54",
   "metadata": {},
   "source": [
    "### Take two input and Power of it."
   ]
  },
  {
   "cell_type": "code",
   "execution_count": 11,
   "id": "ce1d3076",
   "metadata": {},
   "outputs": [
    {
     "name": "stdout",
     "output_type": "stream",
     "text": [
      "Enter Number Here :2\n",
      "7\n",
      "2 * 7 = 128 "
     ]
    }
   ],
   "source": [
    "number = int(input(\"Enter Number Here :\"))\n",
    "num = int(input())\n",
    "print(number,'*',num,'=',number**num,end=' ')"
   ]
  },
  {
   "cell_type": "markdown",
   "id": "c3f301f4",
   "metadata": {},
   "source": [
    "### Print all the combination of a,b,c."
   ]
  },
  {
   "cell_type": "code",
   "execution_count": 2,
   "id": "e1c93350",
   "metadata": {},
   "outputs": [
    {
     "name": "stdout",
     "output_type": "stream",
     "text": [
      "1 )   [ aaa ]\n",
      "2 )   [ aab ]\n",
      "3 )   [ aac ]\n",
      "4 )   [ aba ]\n",
      "5 )   [ abb ]\n",
      "6 )   [ abc ]\n",
      "7 )   [ aca ]\n",
      "8 )   [ acb ]\n",
      "9 )   [ acc ]\n",
      "10 )   [ baa ]\n",
      "11 )   [ bab ]\n",
      "12 )   [ bac ]\n",
      "13 )   [ bba ]\n",
      "14 )   [ bbb ]\n",
      "15 )   [ bbc ]\n",
      "16 )   [ bca ]\n",
      "17 )   [ bcb ]\n",
      "18 )   [ bcc ]\n",
      "19 )   [ caa ]\n",
      "20 )   [ cab ]\n",
      "21 )   [ cac ]\n",
      "22 )   [ cba ]\n",
      "23 )   [ cbb ]\n",
      "24 )   [ cbc ]\n",
      "25 )   [ cca ]\n",
      "26 )   [ ccb ]\n",
      "27 )   [ ccc ]\n"
     ]
    }
   ],
   "source": [
    "letters = ['a','b','c']\n",
    "count = 0\n",
    "for a in letters:\n",
    "    for b in letters:\n",
    "        for c in letters:\n",
    "            count+=1\n",
    "            string = ''\n",
    "            string = string + a+b+c\n",
    "            print(count,')',' ',\"[\",string,\"]\")"
   ]
  },
  {
   "cell_type": "markdown",
   "id": "26748363",
   "metadata": {},
   "source": [
    "### Print Table of number given by user."
   ]
  },
  {
   "cell_type": "code",
   "execution_count": 23,
   "id": "67ec3821",
   "metadata": {},
   "outputs": [
    {
     "name": "stdout",
     "output_type": "stream",
     "text": [
      "Enter Number Here :4\n",
      "4 x 1 = 4\n",
      "4 x 2 = 8\n",
      "4 x 3 = 12\n",
      "4 x 4 = 16\n",
      "4 x 5 = 20\n",
      "4 x 6 = 24\n",
      "4 x 7 = 28\n",
      "4 x 8 = 32\n",
      "4 x 9 = 36\n",
      "4 x 10 = 40\n"
     ]
    }
   ],
   "source": [
    "number = int(input(\"Enter Number Here :\"))\n",
    "for i in range(1,11):\n",
    "    print(number,'x',i,'=',i*number)"
   ]
  },
  {
   "cell_type": "markdown",
   "id": "7b3f926f",
   "metadata": {},
   "source": [
    "### Print Numbers in negative that are given by user."
   ]
  },
  {
   "cell_type": "code",
   "execution_count": 16,
   "id": "a533dc87",
   "metadata": {},
   "outputs": [
    {
     "name": "stdout",
     "output_type": "stream",
     "text": [
      "5\n",
      "-5\n",
      "-4\n",
      "-3\n",
      "-2\n",
      "-1\n"
     ]
    }
   ],
   "source": [
    "num=int(input())\n",
    "for i in range(-num,0):\n",
    "    print(i)"
   ]
  },
  {
   "cell_type": "markdown",
   "id": "4f03d4e2",
   "metadata": {},
   "source": [
    "### Take Input and Make pyramid of numbers."
   ]
  },
  {
   "cell_type": "code",
   "execution_count": 1,
   "id": "14988cb1",
   "metadata": {},
   "outputs": [
    {
     "name": "stdout",
     "output_type": "stream",
     "text": [
      "5\n",
      "1 \n",
      "1 2 \n",
      "1 2 3 \n",
      "1 2 3 4 \n",
      "1 2 3 4 5 \n"
     ]
    }
   ],
   "source": [
    "first =int(input(\"Enter Number Here :\"))\n",
    "first +=1\n",
    "for i in range(1,first):\n",
    "    for j in range(1 , i+1):\n",
    "        print(j , end=' ')\n",
    "    print('')   "
   ]
  },
  {
   "cell_type": "markdown",
   "id": "5a0375da",
   "metadata": {},
   "source": [
    "### Take Input and Make pyramid of stars."
   ]
  },
  {
   "cell_type": "code",
   "execution_count": 55,
   "id": "ce6a075c",
   "metadata": {},
   "outputs": [
    {
     "name": "stdout",
     "output_type": "stream",
     "text": [
      "7\n",
      "\n",
      "* \n",
      "* * \n",
      "* * * \n",
      "* * * * \n",
      "* * * * * \n",
      "* * * * * * \n",
      "* * * * * * * \n"
     ]
    }
   ],
   "source": [
    "i = int(input(\"Enter Number Here :\"))\n",
    "i = i+1\n",
    "space=1\n",
    "for j in range(i):\n",
    "    for k in range(j):\n",
    "        print('*', end=' ') \n",
    "    print('')    "
   ]
  },
  {
   "cell_type": "markdown",
   "id": "0df39620",
   "metadata": {},
   "source": [
    "### Make ''ULTA'' Pyramid of stars."
   ]
  },
  {
   "cell_type": "code",
   "execution_count": 19,
   "id": "98c11ce6",
   "metadata": {},
   "outputs": [
    {
     "name": "stdout",
     "output_type": "stream",
     "text": [
      "5\n",
      "* * * * * \n",
      "* * * * \n",
      "* * * \n",
      "* * \n",
      "* \n"
     ]
    }
   ],
   "source": [
    "number = int(input(\"Enter Number Here :\"))\n",
    "for i in range(number,0,-1):\n",
    "    for j in range(i):\n",
    "        print('*',end=' ')\n",
    "    print('')    "
   ]
  },
  {
   "cell_type": "markdown",
   "id": "3efbec89",
   "metadata": {},
   "source": [
    "### Make Mirror image of vertical form of pyramid."
   ]
  },
  {
   "cell_type": "code",
   "execution_count": 33,
   "id": "4445b8eb",
   "metadata": {},
   "outputs": [
    {
     "name": "stdout",
     "output_type": "stream",
     "text": [
      "* \n",
      "* * \n",
      "* * * \n",
      "* * * * \n",
      "* * * * * \n",
      "* * * * * * \n",
      "* * * * * * * \n",
      "* * * * * * * * \n",
      "* * * * * * * * * \n",
      "* * * * * * * * * * \n",
      "--------------------\n",
      "* * * * * * * * * * \n",
      "* * * * * * * * * \n",
      "* * * * * * * * \n",
      "* * * * * * * \n",
      "* * * * * * \n",
      "* * * * * \n",
      "* * * * \n",
      "* * * \n",
      "* * \n",
      "* \n"
     ]
    }
   ],
   "source": [
    "for j in range(1,11):\n",
    "    for k in range(j):\n",
    "        print('*', end=' ') \n",
    "    print('')\n",
    "    \n",
    "print('--------------------')\n",
    "\n",
    "for i in range(10,0,-1):\n",
    "    for f in range(i):\n",
    "        print('*',end=' ')\n",
    "    print('')  \n"
   ]
  },
  {
   "cell_type": "markdown",
   "id": "81295322",
   "metadata": {},
   "source": [
    "### Print stars pyramid in vertical direction."
   ]
  },
  {
   "cell_type": "code",
   "execution_count": 1,
   "id": "a532fc3e",
   "metadata": {},
   "outputs": [
    {
     "name": "stdout",
     "output_type": "stream",
     "text": [
      "Enter Number Here :5\n",
      "\n",
      "* \n",
      "* * \n",
      "* * * \n",
      "* * * * \n",
      "* * * * * \n",
      "* * * * \n",
      "* * * \n",
      "* * \n",
      "* \n"
     ]
    }
   ],
   "source": [
    "number = int(input(\"Enter Number Here :\"))\n",
    "for j in range(0,number):\n",
    "    for k in range(j):\n",
    "        print('*', end=' ') \n",
    "    print('')   \n",
    "for i in range(number,0,-1):\n",
    "    for f in range(i):\n",
    "        print('*',end=' ')\n",
    "    print('')  "
   ]
  },
  {
   "cell_type": "markdown",
   "id": "9209c85e",
   "metadata": {},
   "source": [
    "### Find Odd and Even number from two input given by user. "
   ]
  },
  {
   "cell_type": "code",
   "execution_count": 10,
   "id": "fb3431e3",
   "metadata": {},
   "outputs": [
    {
     "name": "stdout",
     "output_type": "stream",
     "text": [
      "5\n",
      "90\n",
      "Total Even Numbers : 43\n",
      "Total Odd Numbers : 43\n"
     ]
    }
   ],
   "source": [
    "num = int(input(\"Enter Number Here :\"))\n",
    "num2 = int(input())\n",
    "num2+=1\n",
    "even = 0\n",
    "odd = 0\n",
    "for i in range(num,num2):\n",
    "    if i % 2==0:\n",
    "        even+=1\n",
    "    else:\n",
    "        odd+=1\n",
    "print('Total Even Numbers :',even)\n",
    "print('Total Odd Numbers :',odd)"
   ]
  },
  {
   "cell_type": "markdown",
   "id": "52e61344",
   "metadata": {},
   "source": [
    "### Make ''ULTA'' Pyramid of numbers."
   ]
  },
  {
   "cell_type": "code",
   "execution_count": 58,
   "id": "136ecd2b",
   "metadata": {},
   "outputs": [
    {
     "name": "stdout",
     "output_type": "stream",
     "text": [
      "Enter Number Here :5\n",
      "1 2 3 4 \n",
      "1 2 3 \n",
      "1 2 \n",
      "1 \n",
      "\n"
     ]
    }
   ],
   "source": [
    "i = int(input(\"Enter Number Here :\"))\n",
    "for j in range(5,0,-1):\n",
    "    for k in range(1,j):\n",
    "            print(k, end=' ') \n",
    "    print('')    \n",
    "        "
   ]
  },
  {
   "cell_type": "markdown",
   "id": "73e28ebf",
   "metadata": {},
   "source": [
    "### Take input from user and get square of it as output."
   ]
  },
  {
   "cell_type": "code",
   "execution_count": 9,
   "id": "80c26847",
   "metadata": {},
   "outputs": [
    {
     "name": "stdout",
     "output_type": "stream",
     "text": [
      "Enter Number Here :7878676\n",
      "Square is = 62073535512976\n"
     ]
    }
   ],
   "source": [
    "num =int(input(\"Enter Number Here :\"))\n",
    "num=num*num\n",
    "print('Square is =',num)"
   ]
  },
  {
   "cell_type": "code",
   "execution_count": null,
   "id": "98581739",
   "metadata": {},
   "outputs": [],
   "source": []
  },
  {
   "cell_type": "markdown",
   "id": "9cb92b8d",
   "metadata": {},
   "source": [
    "### Take Input and Cube Of It."
   ]
  },
  {
   "cell_type": "code",
   "execution_count": 12,
   "id": "faf983cc",
   "metadata": {},
   "outputs": [
    {
     "name": "stdout",
     "output_type": "stream",
     "text": [
      "Enter Number Here :5\n",
      "The Cube Of 1 = 1\n",
      "The Cube Of 2 = 8\n",
      "The Cube Of 3 = 27\n",
      "The Cube Of 4 = 64\n",
      "The Cube Of 5 = 125\n"
     ]
    }
   ],
   "source": [
    "num=int(input(\"Enter Number Here :\"))\n",
    "num=num+1\n",
    "for i in range(1,num):\n",
    "    print('The Cube Of',i,'=',i*i*i)"
   ]
  },
  {
   "cell_type": "markdown",
   "id": "a8bea302",
   "metadata": {},
   "source": [
    "### Prime Number"
   ]
  },
  {
   "cell_type": "code",
   "execution_count": 15,
   "id": "218c4709",
   "metadata": {},
   "outputs": [
    {
     "name": "stdout",
     "output_type": "stream",
     "text": [
      "Enter Your Number Here : 0\n",
      "0 is a not Prime Number.\n"
     ]
    }
   ],
   "source": [
    "num=int(input('Enter Your Number Here : '))\n",
    "f=0\n",
    "if(num==1):\n",
    "    f=0\n",
    "elif(num==0):\n",
    "    f=1\n",
    "for i in range(2,num):\n",
    "    if(num%i==0):\n",
    "        f=1\n",
    "        break\n",
    "if(f==1):\n",
    "    print(num,'is a not Prime Number.')\n",
    "else:\n",
    "    print(num,'is a Prime Number.')    "
   ]
  },
  {
   "cell_type": "markdown",
   "id": "89a97c90",
   "metadata": {},
   "source": [
    "### Hourglass Figure From Stars"
   ]
  },
  {
   "cell_type": "code",
   "execution_count": 23,
   "id": "8a72ccf7",
   "metadata": {},
   "outputs": [
    {
     "name": "stdout",
     "output_type": "stream",
     "text": [
      "Enter Number Here :5\n",
      "* * * * * \n",
      "  * * * \n",
      "    * \n",
      "  * * * \n",
      "* * * * * \n"
     ]
    }
   ],
   "source": [
    "num=int(input(\"Enter Number Here :\"))\n",
    "spaces=0\n",
    "for i in range(num,0,-2):\n",
    "    for j in range(spaces):\n",
    "        print(\" \",end=\" \")\n",
    "    spaces+=1\n",
    "    for j in range(i):\n",
    "        print(\"*\",end=\" \")\n",
    "    print()    \n",
    "#Half Way\n",
    "spaces-=2\n",
    "for l in range(i+2,num+1,2):\n",
    "    for j in range(spaces):\n",
    "        print(\" \",end=\" \")\n",
    "    spaces-=1\n",
    "    for j in range(l):\n",
    "        print(\"*\",end=\" \")\n",
    "    print()    "
   ]
  },
  {
   "cell_type": "markdown",
   "id": "83f83484",
   "metadata": {},
   "source": [
    "###  Slanted Pyramid"
   ]
  },
  {
   "cell_type": "code",
   "execution_count": 26,
   "id": "a52e1e3d",
   "metadata": {},
   "outputs": [
    {
     "name": "stdout",
     "output_type": "stream",
     "text": [
      "5\n",
      "            * \n",
      "          * * \n",
      "        * * * \n",
      "      * * * * \n",
      "    * * * * * \n"
     ]
    }
   ],
   "source": [
    "num=int(input(\"Enter Number Here :\"))\n",
    "num+=1\n",
    "space=num\n",
    "for i in range(1,num,1):\n",
    "    for j in range(space):\n",
    "        print(\" \",end=\" \")\n",
    "    space-=1    \n",
    "    for j in range(i):\n",
    "        print(\"*\",end=\" \")\n",
    "    print()    "
   ]
  },
  {
   "cell_type": "markdown",
   "id": "a0f71417",
   "metadata": {},
   "source": [
    "###  Diamond Figure with Stars"
   ]
  },
  {
   "cell_type": "code",
   "execution_count": 6,
   "id": "6dea1038",
   "metadata": {},
   "outputs": [
    {
     "name": "stdout",
     "output_type": "stream",
     "text": [
      "Number Should Be Odd No. : 11\n",
      "                          * \n",
      "                        * * * \n",
      "                      * * * * * \n",
      "                    * * * * * * * \n",
      "                  * * * * * * * * * \n",
      "                * * * * * * * * * * * \n",
      "              * * * * * * * * * * * * * \n",
      "                * * * * * * * * * * * \n",
      "                  * * * * * * * * * \n",
      "                    * * * * * * * \n",
      "                      * * * * * \n",
      "                        * * * \n",
      "                          * \n"
     ]
    }
   ],
   "source": [
    "num=int(input(\"Number Should Be Odd No. : \"))\n",
    "num+=2\n",
    "space=num\n",
    "for i in range(1,num,2):\n",
    "    for j in range(space):\n",
    "        print(\" \",end=\" \")\n",
    "    space-=1   \n",
    "    for j in range(i):\n",
    "        print(\"*\",end=\" \")\n",
    "    print()\n",
    "#Half Way\n",
    "for f in range(num,0,-2):\n",
    "    for j in range(space):\n",
    "        print(\" \",end=\" \")\n",
    "    space+=1\n",
    "    for j in range(f):\n",
    "        print(\"*\",end=\" \")\n",
    "    print()    "
   ]
  },
  {
   "cell_type": "markdown",
   "id": "69127a67",
   "metadata": {},
   "source": [
    "### Triangle with Spaces"
   ]
  },
  {
   "cell_type": "code",
   "execution_count": 1,
   "id": "0774e596",
   "metadata": {},
   "outputs": [
    {
     "name": "stdout",
     "output_type": "stream",
     "text": [
      "Enter Number Here : 5\n",
      "              * \n",
      "            * * * \n",
      "          * * * * * \n"
     ]
    }
   ],
   "source": [
    "num=int(input(\"Enter Number Here : \"))\n",
    "num+=2\n",
    "space=num\n",
    "for i in range(1,num,2):\n",
    "    for j in range(space):\n",
    "        print(\" \",end=\" \")\n",
    "    space-=1   \n",
    "    for j in range(i):\n",
    "        print(\"*\",end=\" \")\n",
    "    print()"
   ]
  },
  {
   "cell_type": "markdown",
   "id": "86b20b80",
   "metadata": {},
   "source": [
    "###  Vertical Trianngle with Spaces"
   ]
  },
  {
   "cell_type": "code",
   "execution_count": 5,
   "id": "04b8aecb",
   "metadata": {},
   "outputs": [
    {
     "name": "stdout",
     "output_type": "stream",
     "text": [
      "4\n",
      "        * \n",
      "      * * \n",
      "    * * * \n",
      "  * * * * \n",
      "    * * * \n",
      "      * * \n",
      "        * \n"
     ]
    }
   ],
   "source": [
    "num=int(input())\n",
    "space=num\n",
    "for i in range(1,num,1):\n",
    "    for j in range(space):\n",
    "        print(\" \",end=\" \")\n",
    "    space-=1    \n",
    "    for j in range(i):\n",
    "        print(\"*\",end=\" \")\n",
    "    print() \n",
    "for k in range(num,0,-1):\n",
    "    for j in range(space):\n",
    "        print(\" \",end=\" \")\n",
    "    space+=1\n",
    "    for j in range(k):\n",
    "        print(\"*\",end=\" \")\n",
    "    print()    "
   ]
  },
  {
   "cell_type": "markdown",
   "id": "8cef86e6",
   "metadata": {},
   "source": [
    "### While Loops Question"
   ]
  },
  {
   "cell_type": "code",
   "execution_count": 1,
   "id": "24b92245",
   "metadata": {},
   "outputs": [
    {
     "name": "stdout",
     "output_type": "stream",
     "text": [
      "0\n",
      "1\n",
      "2\n",
      "3\n",
      "4\n",
      "5\n",
      "6\n",
      "7\n",
      "8\n",
      "9\n",
      "10\n"
     ]
    }
   ],
   "source": [
    "i=0\n",
    "while(11>i):\n",
    "    print(i)\n",
    "    i+=1"
   ]
  },
  {
   "cell_type": "code",
   "execution_count": 3,
   "id": "391b7c51",
   "metadata": {},
   "outputs": [],
   "source": [
    "def isPrime(k):\n",
    "    f = 0\n",
    "    if(k==1 or k==0):\n",
    "        f = 1\n",
    "    else:\n",
    "        for l in range(2,k):\n",
    "            if(k%l==0):\n",
    "                f=1\n",
    "    if(f==1):\n",
    "        return False\n",
    "    else:\n",
    "        return True "
   ]
  },
  {
   "cell_type": "code",
   "execution_count": 4,
   "id": "2cbbcd31",
   "metadata": {},
   "outputs": [
    {
     "name": "stdout",
     "output_type": "stream",
     "text": [
      "False\n",
      "True\n",
      "False\n",
      "False\n",
      "False\n",
      "False\n",
      "True\n",
      "True\n",
      "True\n",
      "False\n"
     ]
    }
   ],
   "source": [
    "# no=int(input(\"No. of Elements in List:\"))\n",
    "list1=[12,23,24,121,45,1122,67,29,2,5674]\n",
    "# for i in range(0,no):\n",
    "#     numbers=int(input())\n",
    "#     list1.append(numbers)\n",
    "for k in list1:\n",
    "    print(isPrime(k))"
   ]
  },
  {
   "cell_type": "code",
   "execution_count": 9,
   "id": "b258c9a3",
   "metadata": {},
   "outputs": [],
   "source": [
    "def productOfDigit(n):\n",
    "    product=1\n",
    "    while(n>0):\n",
    "        y=n%10\n",
    "        product = product * y\n",
    "        n=n//10\n",
    "    return product"
   ]
  },
  {
   "cell_type": "code",
   "execution_count": 10,
   "id": "81ea959b",
   "metadata": {},
   "outputs": [
    {
     "name": "stdout",
     "output_type": "stream",
     "text": [
      "120\n"
     ]
    }
   ],
   "source": [
    "print(productOfDigit(3524))"
   ]
  },
  {
   "cell_type": "markdown",
   "id": "55370f45",
   "metadata": {},
   "source": [
    "### Highest Height of Building in List."
   ]
  },
  {
   "cell_type": "code",
   "execution_count": 3,
   "id": "b03ce008",
   "metadata": {},
   "outputs": [
    {
     "name": "stdout",
     "output_type": "stream",
     "text": [
      "Highest Building\n",
      "━━━━━━━━━━━━━━━━━━━━━━━━━━━━━━━━━━━\n",
      "1) Information of Building- Shri Agrasen Bhavan\n",
      "2) Height of Building- 300 Meter\n"
     ]
    }
   ],
   "source": [
    "Build=[['Bombay Hospital',200],['The Grand Vardhman',20],[\"Narad House\",15],['Shri Agrasen Bhavan',300]]\n",
    "Info=Build[0][0]\n",
    "Height=Build[0][1]\n",
    "for i in Build:\n",
    "    if(Height<i[1]):\n",
    "        Info=i[0]\n",
    "        Height=i[1]\n",
    "print(\"Highest Building\")\n",
    "print(\"━━━━━━━━━━━━━━━━━━━━━━━━━━━━━━━━━━━\")\n",
    "print(\"1)\",\"Information of Building-\",Info)\n",
    "print(\"2)\",\"Height of Building-\",Height,\"Meter\")"
   ]
  },
  {
   "cell_type": "markdown",
   "id": "e1605b81",
   "metadata": {},
   "source": [
    "### Smallest Height of Building in List."
   ]
  },
  {
   "cell_type": "code",
   "execution_count": 6,
   "id": "bf52526b",
   "metadata": {
    "scrolled": true
   },
   "outputs": [
    {
     "name": "stdout",
     "output_type": "stream",
     "text": [
      "Smallest Building\n",
      "━━━━━━━━━━━━━━━━━━━━━━━━━━━━━━━━━━━\n",
      "1) Information of Building- Narad House\n",
      "2) Height of Building- 15 Meter\n"
     ]
    }
   ],
   "source": [
    "Build=[['Bombay Hospital',200],['The Grand Vardhman',20],[\"Narad House\",15],['Shri Agrasen Bhavan',30]]\n",
    "Info=Build[0][0]\n",
    "Height=Build[0][1]\n",
    "for i in Build:\n",
    "    if(Height>i[1]):\n",
    "        Info=i[0]\n",
    "        Height=i[1]\n",
    "print(\"Smallest Building\")\n",
    "print(\"━━━━━━━━━━━━━━━━━━━━━━━━━━━━━━━━━━━\")\n",
    "print(\"1)\",\"Information of Building-\",Info)\n",
    "print(\"2)\",\"Height of Building-\",Height,\"Meter\")"
   ]
  },
  {
   "cell_type": "code",
   "execution_count": 8,
   "id": "1e05b841",
   "metadata": {},
   "outputs": [
    {
     "name": "stdout",
     "output_type": "stream",
     "text": [
      "5\n",
      "\n",
      "* \n",
      "* * \n",
      "* * * \n",
      "* * * * \n"
     ]
    }
   ],
   "source": [
    "num=int(input())\n",
    "for i in range(0,num):\n",
    "    for k in range(i):\n",
    "        print(\"*\",end=\" \")\n",
    "    print()    "
   ]
  },
  {
   "cell_type": "code",
   "execution_count": 19,
   "id": "f749bf04",
   "metadata": {},
   "outputs": [
    {
     "name": "stdout",
     "output_type": "stream",
     "text": [
      "5\n",
      "* * * * * \n",
      "* * * * * \n",
      "* * * * * \n",
      "* * * * * \n",
      "* * * * * \n"
     ]
    }
   ],
   "source": [
    "num=int(input())\n",
    "for i in range(num):\n",
    "    for k in range(num):\n",
    "        print(\"*\",end=\" \")\n",
    "    print()    "
   ]
  },
  {
   "cell_type": "code",
   "execution_count": 41,
   "id": "99e8b40f",
   "metadata": {},
   "outputs": [
    {
     "name": "stdout",
     "output_type": "stream",
     "text": [
      "Height of Figure :5\n",
      "Width  of Figure :3\n",
      "* * * \n",
      "* * * \n",
      "* * * \n",
      "* * * \n",
      "* * * \n"
     ]
    }
   ],
   "source": [
    "height=int(input('Height of Figure :'))\n",
    "width=int(input(\"Width  of Figure :\"))\n",
    "for i in range(height):\n",
    "    for k in range(width):\n",
    "        print('*',end=\" \")\n",
    "    print()    "
   ]
  },
  {
   "cell_type": "code",
   "execution_count": 71,
   "id": "fe84dca7",
   "metadata": {},
   "outputs": [
    {
     "name": "stdout",
     "output_type": "stream",
     "text": [
      "5\n",
      "1 2 3 4 5 \n",
      "1 2 3 4 \n",
      "1 2 3 \n",
      "1 2 \n",
      "1 \n",
      "\n"
     ]
    }
   ],
   "source": [
    "num=int(input())\n",
    "num+=1\n",
    "for i in range(num,0,-1):\n",
    "    for k in range(1,i):\n",
    "        print(k,end=\" \")\n",
    "    print()"
   ]
  },
  {
   "cell_type": "code",
   "execution_count": 77,
   "id": "418e7e64",
   "metadata": {},
   "outputs": [
    {
     "name": "stdout",
     "output_type": "stream",
     "text": [
      "6\n",
      "                * \n",
      "              * * * \n",
      "            * * * * * \n",
      "          * * * * * * * \n"
     ]
    }
   ],
   "source": [
    "num=int(input())\n",
    "num+=2\n",
    "space=num\n",
    "for i in range(1,num,2):\n",
    "    for k in range(space):\n",
    "        print(\" \",end=\" \")\n",
    "    space-=1\n",
    "    for k in range(i):\n",
    "        print(\"*\",end=\" \")\n",
    "    print()    "
   ]
  },
  {
   "cell_type": "code",
   "execution_count": null,
   "id": "44d48e95",
   "metadata": {},
   "outputs": [],
   "source": []
  }
 ],
 "metadata": {
  "kernelspec": {
   "display_name": "Python 3 (ipykernel)",
   "language": "python",
   "name": "python3"
  },
  "language_info": {
   "codemirror_mode": {
    "name": "ipython",
    "version": 3
   },
   "file_extension": ".py",
   "mimetype": "text/x-python",
   "name": "python",
   "nbconvert_exporter": "python",
   "pygments_lexer": "ipython3",
   "version": "3.9.6"
  }
 },
 "nbformat": 4,
 "nbformat_minor": 5
}
